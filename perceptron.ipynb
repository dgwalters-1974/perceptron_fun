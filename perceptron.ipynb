{
  "nbformat": 4,
  "nbformat_minor": 0,
  "metadata": {
    "colab": {
      "provenance": [],
      "toc_visible": true,
      "authorship_tag": "ABX9TyN4UQOcYCbjuIMwBuaJa+to",
      "include_colab_link": true
    },
    "kernelspec": {
      "name": "python3",
      "display_name": "Python 3"
    },
    "language_info": {
      "name": "python"
    }
  },
  "cells": [
    {
      "cell_type": "markdown",
      "metadata": {
        "id": "view-in-github",
        "colab_type": "text"
      },
      "source": [
        "<a href=\"https://colab.research.google.com/github/dgwalters-1974/perceptron_fun/blob/main/perceptron.ipynb\" target=\"_parent\"><img src=\"https://colab.research.google.com/assets/colab-badge.svg\" alt=\"Open In Colab\"/></a>"
      ]
    },
    {
      "cell_type": "markdown",
      "source": [
        "First thing to do is to import some modules that will be needed later when we get coding. Pandas, Numpy and Matplotlib will be used to play with the data (vectors, matrices and plotting them to see what's going on) and SciKit Learn will help with generating some data. Don't pay too much attention to this right now - just run the cell so that everything that follows works smoothly."
      ],
      "metadata": {
        "id": "9t3dugQCcTsW"
      }
    },
    {
      "cell_type": "code",
      "source": [],
      "metadata": {
        "id": "OQgflMngNNiE"
      },
      "execution_count": null,
      "outputs": []
    },
    {
      "cell_type": "markdown",
      "source": [
        "# Imports"
      ],
      "metadata": {
        "id": "xA3hV4j4NGOy"
      }
    },
    {
      "cell_type": "code",
      "execution_count": 1,
      "metadata": {
        "id": "q9XvubSP8WdN"
      },
      "outputs": [],
      "source": [
        "import pandas as pd\n",
        "import numpy as np\n",
        "import matplotlib.pyplot as plt\n",
        "import matplotlib\n",
        "\n",
        "from sklearn.model_selection import train_test_split\n",
        "from sklearn import datasets"
      ]
    },
    {
      "cell_type": "markdown",
      "source": [
        "# Generate data"
      ],
      "metadata": {
        "id": "W4uzMCgGND-I"
      }
    },
    {
      "cell_type": "markdown",
      "source": [
        "Right let's start by generating some data and considering the problem that we're going to solve...\n",
        "The following two lines of code generate two 'blobs' of points in 2-D (think x, y plots) with each datapoint being either part of blob 1 (labelled '0') or blob 2 (labelled '1'). These datapoints are then split 80/20 into a 'training' and 'testing' set - the former is used by our model to 'learn' the parameters and the latter to see how well it generalises to 'unseen' data. This is pretty standard in the ML world where deciding which model to use can be tricky and so some kind of metric is needed."
      ],
      "metadata": {
        "id": "21cKOxQScRhv"
      }
    },
    {
      "cell_type": "code",
      "source": [
        "# Generate 2 blobs of data\n",
        "X, y = datasets.make_blobs(n_samples=50, n_features=2, centers=2, cluster_std=4, random_state=47)\n",
        "\n",
        "# Randomly split the overall data (blobs 1 and 2) into  'training' (80%) and 'test' (20%) subsets\n",
        "X_train, X_test, y_train, y_test = train_test_split(X, y, test_size=0.2, random_state=74)"
      ],
      "metadata": {
        "id": "Rvyw5pexwX9l"
      },
      "execution_count": 36,
      "outputs": []
    },
    {
      "cell_type": "markdown",
      "source": [
        "The following cell plots these datapoints on the (x, y) axes with the different categories shown as different colours (plot includes both train and test sets):"
      ],
      "metadata": {
        "id": "ZsPSN1X4d-sH"
      }
    },
    {
      "cell_type": "code",
      "source": [
        "fig = plt.figure()\n",
        "ax = fig.add_subplot(1, 1, 1)\n",
        "colors = ['green', 'orange']\n",
        "plt.scatter(X_train[:, 0], X_train[:, 1], marker=\"D\", c=y_train, cmap=matplotlib.colors.ListedColormap(colors))\n",
        "plt.scatter(X_test[:, 0], X_test[:, 1], marker=\"D\", c=y_test, cmap=matplotlib.colors.ListedColormap(colors))\n",
        "plt.show()"
      ],
      "metadata": {
        "colab": {
          "base_uri": "https://localhost:8080/",
          "height": 430
        },
        "id": "ws73XZ2VeVGP",
        "outputId": "3d00cd6c-ba38-4fd6-b666-97efd4e5ee02"
      },
      "execution_count": 37,
      "outputs": [
        {
          "output_type": "display_data",
          "data": {
            "text/plain": [
              "<Figure size 640x480 with 1 Axes>"
            ],
            "image/png": "[encoded data removed]"
          },
          "metadata": {}
        }
      ]
    },
    {
      "cell_type": "markdown",
      "source": [
        "# The Perceptron model"
      ],
      "metadata": {
        "id": "Yyrj_keCOERb"
      }
    },
    {
      "cell_type": "markdown",
      "source": [
        "Text describing the Perceptron model..."
      ],
      "metadata": {
        "id": "svezLgmYP-kW"
      }
    },
    {
      "cell_type": "markdown",
      "source": [
        "# Coding the model"
      ],
      "metadata": {
        "id": "5b-yW4cjP21v"
      }
    },
    {
      "cell_type": "markdown",
      "source": [
        "There are a number of ways to turn the above into Python code but the most self contained and readable is to create a 'perceptron' class. This is infinitely reusable and if we follow the same fit / predict language and methodology of Scikit Learn package, our code will be consistent with a lot of the ML models that are already commonplace."
      ],
      "metadata": {
        "id": "54f-wthJfR3O"
      }
    },
    {
      "cell_type": "code",
      "source": [
        "class Perceptron:\n",
        "\n",
        "    def __init__(self, learning_rate=0.01, n=10):\n",
        "\n",
        "        # lr controls the speed at which the parameters are updated\n",
        "        self.lr = learning_rate\n",
        "\n",
        "        # n is the number of 'epochs' that the model will run for = number of times the whole dataset is shown to the model\n",
        "        # restrict to 1 for now as we expect model to converge quickly & easier to keep track of\n",
        "        self.n = n\n",
        "\n",
        "        # see below\n",
        "        self.activation_func = self._unit_step_func\n",
        "\n",
        "        # initial values of weights set during fit\n",
        "        self.weights = None\n",
        "\n",
        "        # initial value of bias set during fit\n",
        "        self.bias = None\n",
        "\n",
        "        # store weights so that we can see how they change during the learning process\n",
        "        self.weights_list = []\n",
        "\n",
        "\n",
        "    def fit(self, X, y):\n",
        "        n_samples, n_features = X.shape\n",
        "\n",
        "        error=0\n",
        "\n",
        "        # init parameters\n",
        "        self.weights = np.zeros(n_features)\n",
        "        self.bias = 0\n",
        "        self.weights_list = []\n",
        "\n",
        "        #y_ = np.array([1 if i > 0 else 0 for i in y])\n",
        "\n",
        "        for _ in range(self.n):\n",
        "\n",
        "            for i, x_i in enumerate(X):\n",
        "\n",
        "                linear_output = np.dot(x_i, self.weights) + self.bias\n",
        "                y_predicted = self.activation_func(linear_output)\n",
        "\n",
        "\n",
        "                # Perceptron update rule\n",
        "                error = y[i] - y_predicted\n",
        "                update = self.lr * error\n",
        "\n",
        "                print(f'ITER {i}:  Error: {error}; New weights: {self.weights}; New bias: {self.bias}; linear output: {linear_output};, y_predicted: {y_predicted};')\n",
        "\n",
        "                self.weights += update * x_i\n",
        "                self.bias += update\n",
        "\n",
        "                self.weights_list.append(self.weights)\n",
        "\n",
        "    def predict(self, X):\n",
        "        linear_output = np.dot(X, self.weights) + self.bias\n",
        "        y_predicted = self.activation_func(linear_output)\n",
        "        return y_predicted\n",
        "\n",
        "    def _unit_step_func(self, x):\n",
        "        return np.where(x>=0, 1, 0)"
      ],
      "metadata": {
        "id": "PABADsr_8tOK"
      },
      "execution_count": 41,
      "outputs": []
    },
    {
      "cell_type": "code",
      "source": [
        "p = Perceptron()\n",
        "p.fit(X_train, y_train)"
      ],
      "metadata": {
        "colab": {
          "base_uri": "https://localhost:8080/"
        },
        "id": "mMFpZnIVH1_w",
        "outputId": "1849168c-72c3-4a4a-e24b-65dfef33885a"
      },
      "execution_count": 42,
      "outputs": [
        {
          "output_type": "stream",
          "name": "stdout",
          "text": [
            "ITER 0:  Error: 0; New weights: [0. 0.]; New bias: 0; linear output: 0.0;, y_predicted: 1;\n",
            "ITER 1:  Error: 0; New weights: [0. 0.]; New bias: 0.0; linear output: 0.0;, y_predicted: 1;\n",
            "ITER 2:  Error: -1; New weights: [0. 0.]; New bias: 0.0; linear output: 0.0;, y_predicted: 1;\n",
            "ITER 3:  Error: 0; New weights: [ 0.11949178 -0.16680705]; New bias: -0.01; linear output: -3.919537068822186;, y_predicted: 0;\n",
            "ITER 4:  Error: 0; New weights: [ 0.11949178 -0.16680705]; New bias: -0.01; linear output: 0.2260371602265206;, y_predicted: 1;\n",
            "ITER 5:  Error: 0; New weights: [ 0.11949178 -0.16680705]; New bias: -0.01; linear output: -1.6080697103865291;, y_predicted: 0;\n",
            "ITER 6:  Error: 0; New weights: [ 0.11949178 -0.16680705]; New bias: -0.01; linear output: -2.1261339362971037;, y_predicted: 0;\n",
            "ITER 7:  Error: 0; New weights: [ 0.11949178 -0.16680705]; New bias: -0.01; linear output: 1.5006896170534185;, y_predicted: 1;\n",
            "ITER 8:  Error: 0; New weights: [ 0.11949178 -0.16680705]; New bias: -0.01; linear output: -2.0166776634461256;, y_predicted: 0;\n",
            "ITER 9:  Error: 0; New weights: [ 0.11949178 -0.16680705]; New bias: -0.01; linear output: -2.3329689867324634;, y_predicted: 0;\n",
            "ITER 10:  Error: 0; New weights: [ 0.11949178 -0.16680705]; New bias: -0.01; linear output: -0.8383193393332058;, y_predicted: 0;\n",
            "ITER 11:  Error: 0; New weights: [ 0.11949178 -0.16680705]; New bias: -0.01; linear output: -2.8383766650659323;, y_predicted: 0;\n",
            "ITER 12:  Error: 0; New weights: [ 0.11949178 -0.16680705]; New bias: -0.01; linear output: -2.7369052102392795;, y_predicted: 0;\n",
            "ITER 13:  Error: 0; New weights: [ 0.11949178 -0.16680705]; New bias: -0.01; linear output: -3.3897597937112547;, y_predicted: 0;\n",
            "ITER 14:  Error: 0; New weights: [ 0.11949178 -0.16680705]; New bias: -0.01; linear output: 0.2925316267124888;, y_predicted: 1;\n",
            "ITER 15:  Error: 0; New weights: [ 0.11949178 -0.16680705]; New bias: -0.01; linear output: -2.63069017841649;, y_predicted: 0;\n",
            "ITER 16:  Error: 0; New weights: [ 0.11949178 -0.16680705]; New bias: -0.01; linear output: 2.078021092536279;, y_predicted: 1;\n",
            "ITER 17:  Error: 0; New weights: [ 0.11949178 -0.16680705]; New bias: -0.01; linear output: -1.9874757851470528;, y_predicted: 0;\n",
            "ITER 18:  Error: 0; New weights: [ 0.11949178 -0.16680705]; New bias: -0.01; linear output: 1.0021671495968245;, y_predicted: 1;\n",
            "ITER 19:  Error: 0; New weights: [ 0.11949178 -0.16680705]; New bias: -0.01; linear output: -2.502201298033959;, y_predicted: 0;\n",
            "ITER 20:  Error: 1; New weights: [ 0.11949178 -0.16680705]; New bias: -0.01; linear output: -0.6248502838269488;, y_predicted: 0;\n",
            "ITER 21:  Error: 0; New weights: [ 0.14894969 -0.10884498]; New bias: 0.0; linear output: -1.6895414543124003;, y_predicted: 0;\n",
            "ITER 22:  Error: 0; New weights: [ 0.14894969 -0.10884498]; New bias: 0.0; linear output: 1.1216581017927103;, y_predicted: 1;\n",
            "ITER 23:  Error: 0; New weights: [ 0.14894969 -0.10884498]; New bias: 0.0; linear output: 2.5908943198157726;, y_predicted: 1;\n",
            "ITER 24:  Error: 0; New weights: [ 0.14894969 -0.10884498]; New bias: 0.0; linear output: 0.854400746466562;, y_predicted: 1;\n",
            "ITER 25:  Error: 0; New weights: [ 0.14894969 -0.10884498]; New bias: 0.0; linear output: -1.9739064496284362;, y_predicted: 0;\n",
            "ITER 26:  Error: 0; New weights: [ 0.14894969 -0.10884498]; New bias: 0.0; linear output: 2.8825917300654673;, y_predicted: 1;\n",
            "ITER 27:  Error: 0; New weights: [ 0.14894969 -0.10884498]; New bias: 0.0; linear output: 1.170877494181936;, y_predicted: 1;\n",
            "ITER 28:  Error: 0; New weights: [ 0.14894969 -0.10884498]; New bias: 0.0; linear output: -2.101920073815667;, y_predicted: 0;\n",
            "ITER 29:  Error: 0; New weights: [ 0.14894969 -0.10884498]; New bias: 0.0; linear output: -3.4200717025495506;, y_predicted: 0;\n",
            "ITER 30:  Error: 0; New weights: [ 0.14894969 -0.10884498]; New bias: 0.0; linear output: -1.873724132781731;, y_predicted: 0;\n",
            "ITER 31:  Error: 0; New weights: [ 0.14894969 -0.10884498]; New bias: 0.0; linear output: -3.1463237222008287;, y_predicted: 0;\n",
            "ITER 32:  Error: 0; New weights: [ 0.14894969 -0.10884498]; New bias: 0.0; linear output: 1.5783431002663697;, y_predicted: 1;\n",
            "ITER 33:  Error: 0; New weights: [ 0.14894969 -0.10884498]; New bias: 0.0; linear output: 0.1691825920226413;, y_predicted: 1;\n",
            "ITER 34:  Error: 0; New weights: [ 0.14894969 -0.10884498]; New bias: 0.0; linear output: -3.3098116391603716;, y_predicted: 0;\n",
            "ITER 35:  Error: 0; New weights: [ 0.14894969 -0.10884498]; New bias: 0.0; linear output: 1.236160448686514;, y_predicted: 1;\n",
            "ITER 36:  Error: 0; New weights: [ 0.14894969 -0.10884498]; New bias: 0.0; linear output: 0.2968757467413021;, y_predicted: 1;\n",
            "ITER 37:  Error: 0; New weights: [ 0.14894969 -0.10884498]; New bias: 0.0; linear output: -3.093224289822105;, y_predicted: 0;\n",
            "ITER 38:  Error: 0; New weights: [ 0.14894969 -0.10884498]; New bias: 0.0; linear output: 0.7784095083179908;, y_predicted: 1;\n",
            "ITER 39:  Error: 0; New weights: [ 0.14894969 -0.10884498]; New bias: 0.0; linear output: 1.7609100288253905;, y_predicted: 1;\n",
            "ITER 0:  Error: 0; New weights: [ 0.14894969 -0.10884498]; New bias: 0.0; linear output: 1.5567582623122802;, y_predicted: 1;\n",
            "ITER 1:  Error: 0; New weights: [ 0.14894969 -0.10884498]; New bias: 0.0; linear output: 0.9137604849784506;, y_predicted: 1;\n",
            "ITER 2:  Error: 0; New weights: [ 0.14894969 -0.10884498]; New bias: 0.0; linear output: -3.595437492258884;, y_predicted: 0;\n",
            "ITER 3:  Error: 0; New weights: [ 0.14894969 -0.10884498]; New bias: 0.0; linear output: -3.495436092787833;, y_predicted: 0;\n",
            "ITER 4:  Error: 0; New weights: [ 0.14894969 -0.10884498]; New bias: 0.0; linear output: 0.45717050912683405;, y_predicted: 1;\n",
            "ITER 5:  Error: 0; New weights: [ 0.14894969 -0.10884498]; New bias: 0.0; linear output: -1.5000166712680192;, y_predicted: 0;\n",
            "ITER 6:  Error: 0; New weights: [ 0.14894969 -0.10884498]; New bias: 0.0; linear output: -1.3712162757141708;, y_predicted: 0;\n",
            "ITER 7:  Error: 0; New weights: [ 0.14894969 -0.10884498]; New bias: 0.0; linear output: 1.5778521170462627;, y_predicted: 1;\n",
            "ITER 8:  Error: 0; New weights: [ 0.14894969 -0.10884498]; New bias: 0.0; linear output: -1.9894414114783325;, y_predicted: 0;\n",
            "ITER 9:  Error: 0; New weights: [ 0.14894969 -0.10884498]; New bias: 0.0; linear output: -2.329173361263105;, y_predicted: 0;\n",
            "ITER 10:  Error: 0; New weights: [ 0.14894969 -0.10884498]; New bias: 0.0; linear output: -0.9691134148426805;, y_predicted: 0;\n",
            "ITER 11:  Error: 0; New weights: [ 0.14894969 -0.10884498]; New bias: 0.0; linear output: -2.2702969789511003;, y_predicted: 0;\n",
            "ITER 12:  Error: 0; New weights: [ 0.14894969 -0.10884498]; New bias: 0.0; linear output: -2.5398194601836863;, y_predicted: 0;\n",
            "ITER 13:  Error: 0; New weights: [ 0.14894969 -0.10884498]; New bias: 0.0; linear output: -3.0542810446982824;, y_predicted: 0;\n",
            "ITER 14:  Error: 0; New weights: [ 0.14894969 -0.10884498]; New bias: 0.0; linear output: 0.24257270992609026;, y_predicted: 1;\n",
            "ITER 15:  Error: 0; New weights: [ 0.14894969 -0.10884498]; New bias: 0.0; linear output: -2.1809087703112464;, y_predicted: 0;\n",
            "ITER 16:  Error: 0; New weights: [ 0.14894969 -0.10884498]; New bias: 0.0; linear output: 1.9964833591681699;, y_predicted: 1;\n",
            "ITER 17:  Error: 0; New weights: [ 0.14894969 -0.10884498]; New bias: 0.0; linear output: -1.9281115130025746;, y_predicted: 0;\n",
            "ITER 18:  Error: 0; New weights: [ 0.14894969 -0.10884498]; New bias: 0.0; linear output: 0.9446181627816956;, y_predicted: 1;\n",
            "ITER 19:  Error: 0; New weights: [ 0.14894969 -0.10884498]; New bias: 0.0; linear output: -1.9124980345913822;, y_predicted: 0;\n",
            "ITER 20:  Error: 1; New weights: [ 0.14894969 -0.10884498]; New bias: 0.0; linear output: -0.19211336906947207;, y_predicted: 0;\n",
            "ITER 21:  Error: 0; New weights: [ 0.1784076  -0.05088292]; New bias: 0.01; linear output: -1.5520090123647892;, y_predicted: 0;\n",
            "ITER 22:  Error: 0; New weights: [ 0.1784076  -0.05088292]; New bias: 0.01; linear output: 1.21330134087431;, y_predicted: 1;\n",
            "ITER 23:  Error: 0; New weights: [ 0.1784076  -0.05088292]; New bias: 0.01; linear output: 2.1630256588305787;, y_predicted: 1;\n",
            "ITER 24:  Error: 0; New weights: [ 0.1784076  -0.05088292]; New bias: 0.01; linear output: 1.0761797026676565;, y_predicted: 1;\n",
            "ITER 25:  Error: 0; New weights: [ 0.1784076  -0.05088292]; New bias: 0.01; linear output: -1.5464167784464167;, y_predicted: 0;\n",
            "ITER 26:  Error: 0; New weights: [ 0.1784076  -0.05088292]; New bias: 0.01; linear output: 2.4076046435615965;, y_predicted: 1;\n",
            "ITER 27:  Error: 0; New weights: [ 0.1784076  -0.05088292]; New bias: 0.01; linear output: 1.140214242463083;, y_predicted: 1;\n",
            "ITER 28:  Error: 0; New weights: [ 0.1784076  -0.05088292]; New bias: 0.01; linear output: -1.941678498839749;, y_predicted: 0;\n",
            "ITER 29:  Error: 0; New weights: [ 0.1784076  -0.05088292]; New bias: 0.01; linear output: -3.228015155524;, y_predicted: 0;\n",
            "ITER 30:  Error: 0; New weights: [ 0.1784076  -0.05088292]; New bias: 0.01; linear output: -1.4894953518918197;, y_predicted: 0;\n",
            "ITER 31:  Error: 0; New weights: [ 0.1784076  -0.05088292]; New bias: 0.01; linear output: -2.742382428960723;, y_predicted: 0;\n",
            "ITER 32:  Error: 0; New weights: [ 0.1784076  -0.05088292]; New bias: 0.01; linear output: 2.1187642008568806;, y_predicted: 1;\n",
            "ITER 33:  Error: 1; New weights: [ 0.1784076  -0.05088292]; New bias: 0.01; linear output: -0.3221960810776499;, y_predicted: 0;\n",
            "ITER 34:  Error: 0; New weights: [ 0.14059744 -0.11816794]; New bias: 0.02; linear output: -3.270437860768537;, y_predicted: 0;\n",
            "ITER 35:  Error: 0; New weights: [ 0.14059744 -0.11816794]; New bias: 0.02; linear output: 1.1820413601259208;, y_predicted: 1;\n",
            "ITER 36:  Error: 0; New weights: [ 0.14059744 -0.11816794]; New bias: 0.02; linear output: 0.19863927067915452;, y_predicted: 1;\n",
            "ITER 37:  Error: 0; New weights: [ 0.14059744 -0.11816794]; New bias: 0.02; linear output: -3.1021591590875337;, y_predicted: 0;\n",
            "ITER 38:  Error: 0; New weights: [ 0.14059744 -0.11816794]; New bias: 0.02; linear output: 0.8112407849685843;, y_predicted: 1;\n",
            "ITER 39:  Error: 0; New weights: [ 0.14059744 -0.11816794]; New bias: 0.02; linear output: 1.8599251314344947;, y_predicted: 1;\n",
            "ITER 0:  Error: 0; New weights: [ 0.14059744 -0.11816794]; New bias: 0.02; linear output: 1.6435126305737002;, y_predicted: 1;\n",
            "ITER 1:  Error: 0; New weights: [ 0.14059744 -0.11816794]; New bias: 0.02; linear output: 0.9101323686702772;, y_predicted: 1;\n",
            "ITER 2:  Error: 0; New weights: [ 0.14059744 -0.11816794]; New bias: 0.02; linear output: -3.631148473554868;, y_predicted: 0;\n",
            "ITER 3:  Error: 0; New weights: [ 0.14059744 -0.11816794]; New bias: 0.02; linear output: -3.4939568520424245;, y_predicted: 0;\n",
            "ITER 4:  Error: 0; New weights: [ 0.14059744 -0.11816794]; New bias: 0.02; linear output: 0.42616641585295434;, y_predicted: 1;\n",
            "ITER 5:  Error: 0; New weights: [ 0.14059744 -0.11816794]; New bias: 0.02; linear output: -1.4725063872777644;, y_predicted: 0;\n",
            "ITER 6:  Error: 0; New weights: [ 0.14059744 -0.11816794]; New bias: 0.02; linear output: -1.471522197079223;, y_predicted: 0;\n",
            "ITER 7:  Error: 0; New weights: [ 0.14059744 -0.11816794]; New bias: 0.02; linear output: 1.5569012375049374;, y_predicted: 1;\n",
            "ITER 8:  Error: 0; New weights: [ 0.14059744 -0.11816794]; New bias: 0.02; linear output: -1.9375876775082512;, y_predicted: 0;\n",
            "ITER 9:  Error: 0; New weights: [ 0.14059744 -0.11816794]; New bias: 0.02; linear output: -2.2667596838975395;, y_predicted: 0;\n",
            "ITER 10:  Error: 0; New weights: [ 0.14059744 -0.11816794]; New bias: 0.02; linear output: -0.9046431058884052;, y_predicted: 0;\n",
            "ITER 11:  Error: 0; New weights: [ 0.14059744 -0.11816794]; New bias: 0.02; linear output: -2.3184359015839955;, y_predicted: 0;\n",
            "ITER 12:  Error: 0; New weights: [ 0.14059744 -0.11816794]; New bias: 0.02; linear output: -2.5111907829625966;, y_predicted: 0;\n",
            "ITER 13:  Error: 0; New weights: [ 0.14059744 -0.11816794]; New bias: 0.02; linear output: -3.0434081071701287;, y_predicted: 0;\n",
            "ITER 14:  Error: 0; New weights: [ 0.14059744 -0.11816794]; New bias: 0.02; linear output: 0.2699171795875495;, y_predicted: 1;\n",
            "ITER 15:  Error: 0; New weights: [ 0.14059744 -0.11816794]; New bias: 0.02; linear output: -2.207671009712984;, y_predicted: 0;\n",
            "ITER 16:  Error: 0; New weights: [ 0.14059744 -0.11816794]; New bias: 0.02; linear output: 1.99892476203564;, y_predicted: 1;\n",
            "ITER 17:  Error: 0; New weights: [ 0.14059744 -0.11816794]; New bias: 0.02; linear output: -1.8835779786770344;, y_predicted: 0;\n",
            "ITER 18:  Error: 0; New weights: [ 0.14059744 -0.11816794]; New bias: 0.02; linear output: 0.9610144938693461;, y_predicted: 1;\n",
            "ITER 19:  Error: 0; New weights: [ 0.14059744 -0.11816794]; New bias: 0.02; linear output: -1.97116392057102;, y_predicted: 0;\n",
            "ITER 20:  Error: 1; New weights: [ 0.14059744 -0.11816794]; New bias: 0.02; linear output: -0.25075512741228656;, y_predicted: 0;\n",
            "ITER 21:  Error: 0; New weights: [ 0.17005535 -0.06020588]; New bias: 0.03; linear output: -1.5268665885083703;, y_predicted: 0;\n",
            "ITER 22:  Error: 0; New weights: [ 0.17005535 -0.06020588]; New bias: 0.03; linear output: 1.1976115245094212;, y_predicted: 1;\n",
            "ITER 23:  Error: 0; New weights: [ 0.17005535 -0.06020588]; New bias: 0.03; linear output: 2.22216289933779;, y_predicted: 1;\n",
            "ITER 24:  Error: 0; New weights: [ 0.17005535 -0.06020588]; New bias: 0.03; linear output: 1.0399629075501298;, y_predicted: 1;\n",
            "ITER 25:  Error: 0; New weights: [ 0.17005535 -0.06020588]; New bias: 0.03; linear output: -1.5725152984374746;, y_predicted: 0;\n",
            "ITER 26:  Error: 0; New weights: [ 0.17005535 -0.06020588]; New bias: 0.03; linear output: 2.4707252393194628;, y_predicted: 1;\n",
            "ITER 27:  Error: 0; New weights: [ 0.17005535 -0.06020588]; New bias: 0.03; linear output: 1.147389684053095;, y_predicted: 1;\n",
            "ITER 28:  Error: 0; New weights: [ 0.17005535 -0.06020588]; New bias: 0.03; linear output: -1.9136471175535024;, y_predicted: 0;\n",
            "ITER 29:  Error: 0; New weights: [ 0.17005535 -0.06020588]; New bias: 0.03; linear output: -3.1828363340776598;, y_predicted: 0;\n",
            "ITER 30:  Error: 0; New weights: [ 0.17005535 -0.06020588]; New bias: 0.03; linear output: -1.5089707129384786;, y_predicted: 0;\n",
            "ITER 31:  Error: 0; New weights: [ 0.17005535 -0.06020588]; New bias: 0.03; linear output: -2.743167561939711;, y_predicted: 0;\n",
            "ITER 32:  Error: 0; New weights: [ 0.17005535 -0.06020588]; New bias: 0.03; linear output: 2.0078997878640608;, y_predicted: 1;\n",
            "ITER 33:  Error: 1; New weights: [ 0.17005535 -0.06020588]; New bias: 0.03; linear output: -0.20788656468002922;, y_predicted: 0;\n",
            "ITER 34:  Error: 0; New weights: [ 0.13224519 -0.1274909 ]; New bias: 0.04; linear output: -3.2310640823767027;, y_predicted: 0;\n",
            "ITER 35:  Error: 0; New weights: [ 0.13224519 -0.1274909 ]; New bias: 0.04; linear output: 1.1279222715653274;, y_predicted: 1;\n",
            "ITER 36:  Error: 0; New weights: [ 0.13224519 -0.1274909 ]; New bias: 0.04; linear output: 0.10040279461700682;, y_predicted: 1;\n",
            "ITER 37:  Error: 0; New weights: [ 0.13224519 -0.1274909 ]; New bias: 0.04; linear output: -3.1110940283529613;, y_predicted: 0;\n",
            "ITER 38:  Error: 0; New weights: [ 0.13224519 -0.1274909 ]; New bias: 0.04; linear output: 0.8440720616191777;, y_predicted: 1;\n",
            "ITER 39:  Error: 0; New weights: [ 0.13224519 -0.1274909 ]; New bias: 0.04; linear output: 1.9589402340435986;, y_predicted: 1;\n",
            "ITER 0:  Error: 0; New weights: [ 0.13224519 -0.1274909 ]; New bias: 0.04; linear output: 1.73026699883512;, y_predicted: 1;\n",
            "ITER 1:  Error: 0; New weights: [ 0.13224519 -0.1274909 ]; New bias: 0.04; linear output: 0.9065042523621037;, y_predicted: 1;\n",
            "ITER 2:  Error: 0; New weights: [ 0.13224519 -0.1274909 ]; New bias: 0.04; linear output: -3.6668594548508517;, y_predicted: 0;\n",
            "ITER 3:  Error: 0; New weights: [ 0.13224519 -0.1274909 ]; New bias: 0.04; linear output: -3.4924776112970153;, y_predicted: 0;\n",
            "ITER 4:  Error: 0; New weights: [ 0.13224519 -0.1274909 ]; New bias: 0.04; linear output: 0.3951623225790745;, y_predicted: 1;\n",
            "ITER 5:  Error: 0; New weights: [ 0.13224519 -0.1274909 ]; New bias: 0.04; linear output: -1.4449961032875094;, y_predicted: 0;\n",
            "ITER 6:  Error: 0; New weights: [ 0.13224519 -0.1274909 ]; New bias: 0.04; linear output: -1.571828118444275;, y_predicted: 0;\n",
            "ITER 7:  Error: 0; New weights: [ 0.13224519 -0.1274909 ]; New bias: 0.04; linear output: 1.5359503579636118;, y_predicted: 1;\n",
            "ITER 8:  Error: 0; New weights: [ 0.13224519 -0.1274909 ]; New bias: 0.04; linear output: -1.88573394353817;, y_predicted: 0;\n",
            "ITER 9:  Error: 0; New weights: [ 0.13224519 -0.1274909 ]; New bias: 0.04; linear output: -2.204346006531974;, y_predicted: 0;\n",
            "ITER 10:  Error: 0; New weights: [ 0.13224519 -0.1274909 ]; New bias: 0.04; linear output: -0.8401727969341299;, y_predicted: 0;\n",
            "ITER 11:  Error: 0; New weights: [ 0.13224519 -0.1274909 ]; New bias: 0.04; linear output: -2.366574824216891;, y_predicted: 0;\n",
            "ITER 12:  Error: 0; New weights: [ 0.13224519 -0.1274909 ]; New bias: 0.04; linear output: -2.482562105741507;, y_predicted: 0;\n",
            "ITER 13:  Error: 0; New weights: [ 0.13224519 -0.1274909 ]; New bias: 0.04; linear output: -3.032535169641976;, y_predicted: 0;\n",
            "ITER 14:  Error: 0; New weights: [ 0.13224519 -0.1274909 ]; New bias: 0.04; linear output: 0.2972616492490088;, y_predicted: 1;\n",
            "ITER 15:  Error: 0; New weights: [ 0.13224519 -0.1274909 ]; New bias: 0.04; linear output: -2.234433249114722;, y_predicted: 0;\n",
            "ITER 16:  Error: 0; New weights: [ 0.13224519 -0.1274909 ]; New bias: 0.04; linear output: 2.0013661649031103;, y_predicted: 1;\n",
            "ITER 17:  Error: 0; New weights: [ 0.13224519 -0.1274909 ]; New bias: 0.04; linear output: -1.8390444443514946;, y_predicted: 0;\n",
            "ITER 18:  Error: 0; New weights: [ 0.13224519 -0.1274909 ]; New bias: 0.04; linear output: 0.9774108249569968;, y_predicted: 1;\n",
            "ITER 19:  Error: 0; New weights: [ 0.13224519 -0.1274909 ]; New bias: 0.04; linear output: -2.0298298065506577;, y_predicted: 0;\n",
            "ITER 20:  Error: 1; New weights: [ 0.13224519 -0.1274909 ]; New bias: 0.04; linear output: -0.30939688575510116;, y_predicted: 0;\n",
            "ITER 21:  Error: 0; New weights: [ 0.1617031  -0.06952883]; New bias: 0.05; linear output: -1.5017241646519512;, y_predicted: 0;\n",
            "ITER 22:  Error: 0; New weights: [ 0.1617031  -0.06952883]; New bias: 0.05; linear output: 1.1819217081445323;, y_predicted: 1;\n",
            "ITER 23:  Error: 0; New weights: [ 0.1617031  -0.06952883]; New bias: 0.05; linear output: 2.2813001398450017;, y_predicted: 1;\n",
            "ITER 24:  Error: 0; New weights: [ 0.1617031  -0.06952883]; New bias: 0.05; linear output: 1.0037461124326033;, y_predicted: 1;\n",
            "ITER 25:  Error: 0; New weights: [ 0.1617031  -0.06952883]; New bias: 0.05; linear output: -1.5986138184285328;, y_predicted: 0;\n",
            "ITER 26:  Error: 0; New weights: [ 0.1617031  -0.06952883]; New bias: 0.05; linear output: 2.533845835077329;, y_predicted: 1;\n",
            "ITER 27:  Error: 0; New weights: [ 0.1617031  -0.06952883]; New bias: 0.05; linear output: 1.1545651256431069;, y_predicted: 1;\n",
            "ITER 28:  Error: 0; New weights: [ 0.1617031  -0.06952883]; New bias: 0.05; linear output: -1.8856157362672556;, y_predicted: 0;\n",
            "ITER 29:  Error: 0; New weights: [ 0.1617031  -0.06952883]; New bias: 0.05; linear output: -3.137657512631319;, y_predicted: 0;\n",
            "ITER 30:  Error: 0; New weights: [ 0.1617031  -0.06952883]; New bias: 0.05; linear output: -1.5284460739851375;, y_predicted: 0;\n",
            "ITER 31:  Error: 0; New weights: [ 0.1617031  -0.06952883]; New bias: 0.05; linear output: -2.7439526949186988;, y_predicted: 0;\n",
            "ITER 32:  Error: 0; New weights: [ 0.1617031  -0.06952883]; New bias: 0.05; linear output: 1.8970353748712412;, y_predicted: 1;\n",
            "ITER 33:  Error: 1; New weights: [ 0.1617031  -0.06952883]; New bias: 0.05; linear output: -0.09357704828240852;, y_predicted: 0;\n",
            "ITER 34:  Error: 0; New weights: [ 0.12389295 -0.13681385]; New bias: 0.060000000000000005; linear output: -3.1916903039848683;, y_predicted: 0;\n",
            "ITER 35:  Error: 0; New weights: [ 0.12389295 -0.13681385]; New bias: 0.060000000000000005; linear output: 1.073803183004734;, y_predicted: 1;\n",
            "ITER 36:  Error: 0; New weights: [ 0.12389295 -0.13681385]; New bias: 0.060000000000000005; linear output: 0.0021663185548592215;, y_predicted: 1;\n",
            "ITER 37:  Error: 0; New weights: [ 0.12389295 -0.13681385]; New bias: 0.060000000000000005; linear output: -3.1200288976183894;, y_predicted: 0;\n",
            "ITER 38:  Error: 0; New weights: [ 0.12389295 -0.13681385]; New bias: 0.060000000000000005; linear output: 0.8769033382697712;, y_predicted: 1;\n",
            "ITER 39:  Error: 0; New weights: [ 0.12389295 -0.13681385]; New bias: 0.060000000000000005; linear output: 2.057955336652703;, y_predicted: 1;\n",
            "ITER 0:  Error: 0; New weights: [ 0.12389295 -0.13681385]; New bias: 0.060000000000000005; linear output: 1.8170213670965398;, y_predicted: 1;\n",
            "ITER 1:  Error: 0; New weights: [ 0.12389295 -0.13681385]; New bias: 0.060000000000000005; linear output: 0.9028761360539304;, y_predicted: 1;\n",
            "ITER 2:  Error: 0; New weights: [ 0.12389295 -0.13681385]; New bias: 0.060000000000000005; linear output: -3.702570436146836;, y_predicted: 0;\n",
            "ITER 3:  Error: 0; New weights: [ 0.12389295 -0.13681385]; New bias: 0.060000000000000005; linear output: -3.490998370551606;, y_predicted: 0;\n",
            "ITER 4:  Error: 0; New weights: [ 0.12389295 -0.13681385]; New bias: 0.060000000000000005; linear output: 0.3641582293051948;, y_predicted: 1;\n",
            "ITER 5:  Error: 0; New weights: [ 0.12389295 -0.13681385]; New bias: 0.060000000000000005; linear output: -1.4174858192972546;, y_predicted: 0;\n",
            "ITER 6:  Error: 0; New weights: [ 0.12389295 -0.13681385]; New bias: 0.060000000000000005; linear output: -1.6721340398093272;, y_predicted: 0;\n",
            "ITER 7:  Error: 0; New weights: [ 0.12389295 -0.13681385]; New bias: 0.060000000000000005; linear output: 1.5149994784222862;, y_predicted: 1;\n",
            "ITER 8:  Error: 0; New weights: [ 0.12389295 -0.13681385]; New bias: 0.060000000000000005; linear output: -1.8338802095680888;, y_predicted: 0;\n",
            "ITER 9:  Error: 0; New weights: [ 0.12389295 -0.13681385]; New bias: 0.060000000000000005; linear output: -2.141932329166409;, y_predicted: 0;\n",
            "ITER 10:  Error: 0; New weights: [ 0.12389295 -0.13681385]; New bias: 0.060000000000000005; linear output: -0.7757024879798546;, y_predicted: 0;\n",
            "ITER 11:  Error: 0; New weights: [ 0.12389295 -0.13681385]; New bias: 0.060000000000000005; linear output: -2.414713746849787;, y_predicted: 0;\n",
            "ITER 12:  Error: 0; New weights: [ 0.12389295 -0.13681385]; New bias: 0.060000000000000005; linear output: -2.453933428520417;, y_predicted: 0;\n",
            "ITER 13:  Error: 0; New weights: [ 0.12389295 -0.13681385]; New bias: 0.060000000000000005; linear output: -3.0216622321138225;, y_predicted: 0;\n",
            "ITER 14:  Error: 0; New weights: [ 0.12389295 -0.13681385]; New bias: 0.060000000000000005; linear output: 0.3246061189104681;, y_predicted: 1;\n",
            "ITER 15:  Error: 0; New weights: [ 0.12389295 -0.13681385]; New bias: 0.060000000000000005; linear output: -2.261195488516459;, y_predicted: 0;\n",
            "ITER 16:  Error: 0; New weights: [ 0.12389295 -0.13681385]; New bias: 0.060000000000000005; linear output: 2.0038075677705804;, y_predicted: 1;\n",
            "ITER 17:  Error: 0; New weights: [ 0.12389295 -0.13681385]; New bias: 0.060000000000000005; linear output: -1.7945109100259546;, y_predicted: 0;\n",
            "ITER 18:  Error: 0; New weights: [ 0.12389295 -0.13681385]; New bias: 0.060000000000000005; linear output: 0.9938071560446473;, y_predicted: 1;\n",
            "ITER 19:  Error: 0; New weights: [ 0.12389295 -0.13681385]; New bias: 0.060000000000000005; linear output: -2.0884956925302953;, y_predicted: 0;\n",
            "ITER 20:  Error: 1; New weights: [ 0.12389295 -0.13681385]; New bias: 0.060000000000000005; linear output: -0.36803864409791565;, y_predicted: 0;\n",
            "ITER 21:  Error: 0; New weights: [ 0.15335085 -0.07885179]; New bias: 0.07; linear output: -1.476581740795532;, y_predicted: 0;\n",
            "ITER 22:  Error: 0; New weights: [ 0.15335085 -0.07885179]; New bias: 0.07; linear output: 1.1662318917796433;, y_predicted: 1;\n",
            "ITER 23:  Error: 0; New weights: [ 0.15335085 -0.07885179]; New bias: 0.07; linear output: 2.3404373803522134;, y_predicted: 1;\n",
            "ITER 24:  Error: 0; New weights: [ 0.15335085 -0.07885179]; New bias: 0.07; linear output: 0.9675293173150765;, y_predicted: 1;\n",
            "ITER 25:  Error: 0; New weights: [ 0.15335085 -0.07885179]; New bias: 0.07; linear output: -1.624712338419591;, y_predicted: 0;\n",
            "ITER 26:  Error: 0; New weights: [ 0.15335085 -0.07885179]; New bias: 0.07; linear output: 2.5969664308351956;, y_predicted: 1;\n",
            "ITER 27:  Error: 0; New weights: [ 0.15335085 -0.07885179]; New bias: 0.07; linear output: 1.161740567233119;, y_predicted: 1;\n",
            "ITER 28:  Error: 0; New weights: [ 0.15335085 -0.07885179]; New bias: 0.07; linear output: -1.8575843549810094;, y_predicted: 0;\n",
            "ITER 29:  Error: 0; New weights: [ 0.15335085 -0.07885179]; New bias: 0.07; linear output: -3.0924786911849793;, y_predicted: 0;\n",
            "ITER 30:  Error: 0; New weights: [ 0.15335085 -0.07885179]; New bias: 0.07; linear output: -1.5479214350317965;, y_predicted: 0;\n",
            "ITER 31:  Error: 0; New weights: [ 0.15335085 -0.07885179]; New bias: 0.07; linear output: -2.7447378278976866;, y_predicted: 0;\n",
            "ITER 32:  Error: 0; New weights: [ 0.15335085 -0.07885179]; New bias: 0.07; linear output: 1.7861709618784214;, y_predicted: 1;\n",
            "ITER 33:  Error: 0; New weights: [ 0.15335085 -0.07885179]; New bias: 0.07; linear output: 0.020732468115212177;, y_predicted: 1;\n",
            "ITER 34:  Error: 0; New weights: [ 0.15335085 -0.07885179]; New bias: 0.07; linear output: -2.9797737917980585;, y_predicted: 0;\n",
            "ITER 35:  Error: 0; New weights: [ 0.15335085 -0.07885179]; New bias: 0.07; linear output: 1.3530246372754746;, y_predicted: 1;\n",
            "ITER 36:  Error: 0; New weights: [ 0.15335085 -0.07885179]; New bias: 0.07; linear output: 0.5943459426981919;, y_predicted: 1;\n",
            "ITER 37:  Error: 0; New weights: [ 0.15335085 -0.07885179]; New bias: 0.07; linear output: -2.6789348307875964;, y_predicted: 0;\n",
            "ITER 38:  Error: 0; New weights: [ 0.15335085 -0.07885179]; New bias: 0.07; linear output: 0.7498216462963045;, y_predicted: 1;\n",
            "ITER 39:  Error: 0; New weights: [ 0.15335085 -0.07885179]; New bias: 0.07; linear output: 1.5002724404578098;, y_predicted: 1;\n",
            "ITER 0:  Error: 0; New weights: [ 0.15335085 -0.07885179]; New bias: 0.07; linear output: 1.341127031433247;, y_predicted: 1;\n",
            "ITER 1:  Error: 0; New weights: [ 0.15335085 -0.07885179]; New bias: 0.07; linear output: 0.9513216297186979;, y_predicted: 1;\n",
            "ITER 2:  Error: 0; New weights: [ 0.15335085 -0.07885179]; New bias: 0.07; linear output: -3.077720152319887;, y_predicted: 0;\n",
            "ITER 3:  Error: 0; New weights: [ 0.15335085 -0.07885179]; New bias: 0.07; linear output: -3.0668973945172535;, y_predicted: 0;\n",
            "ITER 4:  Error: 0; New weights: [ 0.15335085 -0.07885179]; New bias: 0.07; linear output: 0.5952915782055084;, y_predicted: 1;\n",
            "ITER 5:  Error: 0; New weights: [ 0.15335085 -0.07885179]; New bias: 0.07; linear output: -1.3094327801787446;, y_predicted: 0;\n",
            "ITER 6:  Error: 0; New weights: [ 0.15335085 -0.07885179]; New bias: 0.07; linear output: -0.9172163792263939;, y_predicted: 0;\n",
            "ITER 7:  Error: 0; New weights: [ 0.15335085 -0.07885179]; New bias: 0.07; linear output: 1.5921619784151306;, y_predicted: 1;\n",
            "ITER 8:  Error: 0; New weights: [ 0.15335085 -0.07885179]; New bias: 0.07; linear output: -1.8066439576002955;, y_predicted: 0;\n",
            "ITER 9:  Error: 0; New weights: [ 0.15335085 -0.07885179]; New bias: 0.07; linear output: -2.1381367036970507;, y_predicted: 0;\n",
            "ITER 10:  Error: 0; New weights: [ 0.15335085 -0.07885179]; New bias: 0.07; linear output: -0.9064965634893296;, y_predicted: 0;\n",
            "ITER 11:  Error: 0; New weights: [ 0.15335085 -0.07885179]; New bias: 0.07; linear output: -1.8466340607349545;, y_predicted: 0;\n",
            "ITER 12:  Error: 0; New weights: [ 0.15335085 -0.07885179]; New bias: 0.07; linear output: -2.2568476784648244;, y_predicted: 0;\n",
            "ITER 13:  Error: 0; New weights: [ 0.15335085 -0.07885179]; New bias: 0.07; linear output: -2.6861834831008506;, y_predicted: 0;\n",
            "ITER 14:  Error: 0; New weights: [ 0.15335085 -0.07885179]; New bias: 0.07; linear output: 0.27464720212406957;, y_predicted: 1;\n",
            "ITER 15:  Error: 0; New weights: [ 0.15335085 -0.07885179]; New bias: 0.07; linear output: -1.8114140804112153;, y_predicted: 0;\n",
            "ITER 16:  Error: 0; New weights: [ 0.15335085 -0.07885179]; New bias: 0.07; linear output: 1.9222698344024716;, y_predicted: 1;\n",
            "ITER 17:  Error: 0; New weights: [ 0.15335085 -0.07885179]; New bias: 0.07; linear output: -1.7351466378814764;, y_predicted: 0;\n",
            "ITER 18:  Error: 0; New weights: [ 0.15335085 -0.07885179]; New bias: 0.07; linear output: 0.9362581692295184;, y_predicted: 1;\n",
            "ITER 19:  Error: 0; New weights: [ 0.15335085 -0.07885179]; New bias: 0.07; linear output: -1.498792429087718;, y_predicted: 0;\n",
            "ITER 20:  Error: 0; New weights: [ 0.15335085 -0.07885179]; New bias: 0.07; linear output: 0.06469827065956113;, y_predicted: 1;\n",
            "ITER 21:  Error: 0; New weights: [ 0.15335085 -0.07885179]; New bias: 0.07; linear output: -1.476581740795532;, y_predicted: 0;\n",
            "ITER 22:  Error: 0; New weights: [ 0.15335085 -0.07885179]; New bias: 0.07; linear output: 1.1662318917796433;, y_predicted: 1;\n",
            "ITER 23:  Error: 0; New weights: [ 0.15335085 -0.07885179]; New bias: 0.07; linear output: 2.3404373803522134;, y_predicted: 1;\n",
            "ITER 24:  Error: 0; New weights: [ 0.15335085 -0.07885179]; New bias: 0.07; linear output: 0.9675293173150765;, y_predicted: 1;\n",
            "ITER 25:  Error: 0; New weights: [ 0.15335085 -0.07885179]; New bias: 0.07; linear output: -1.624712338419591;, y_predicted: 0;\n",
            "ITER 26:  Error: 0; New weights: [ 0.15335085 -0.07885179]; New bias: 0.07; linear output: 2.5969664308351956;, y_predicted: 1;\n",
            "ITER 27:  Error: 0; New weights: [ 0.15335085 -0.07885179]; New bias: 0.07; linear output: 1.161740567233119;, y_predicted: 1;\n",
            "ITER 28:  Error: 0; New weights: [ 0.15335085 -0.07885179]; New bias: 0.07; linear output: -1.8575843549810094;, y_predicted: 0;\n",
            "ITER 29:  Error: 0; New weights: [ 0.15335085 -0.07885179]; New bias: 0.07; linear output: -3.0924786911849793;, y_predicted: 0;\n",
            "ITER 30:  Error: 0; New weights: [ 0.15335085 -0.07885179]; New bias: 0.07; linear output: -1.5479214350317965;, y_predicted: 0;\n",
            "ITER 31:  Error: 0; New weights: [ 0.15335085 -0.07885179]; New bias: 0.07; linear output: -2.7447378278976866;, y_predicted: 0;\n",
            "ITER 32:  Error: 0; New weights: [ 0.15335085 -0.07885179]; New bias: 0.07; linear output: 1.7861709618784214;, y_predicted: 1;\n",
            "ITER 33:  Error: 0; New weights: [ 0.15335085 -0.07885179]; New bias: 0.07; linear output: 0.020732468115212177;, y_predicted: 1;\n",
            "ITER 34:  Error: 0; New weights: [ 0.15335085 -0.07885179]; New bias: 0.07; linear output: -2.9797737917980585;, y_predicted: 0;\n",
            "ITER 35:  Error: 0; New weights: [ 0.15335085 -0.07885179]; New bias: 0.07; linear output: 1.3530246372754746;, y_predicted: 1;\n",
            "ITER 36:  Error: 0; New weights: [ 0.15335085 -0.07885179]; New bias: 0.07; linear output: 0.5943459426981919;, y_predicted: 1;\n",
            "ITER 37:  Error: 0; New weights: [ 0.15335085 -0.07885179]; New bias: 0.07; linear output: -2.6789348307875964;, y_predicted: 0;\n",
            "ITER 38:  Error: 0; New weights: [ 0.15335085 -0.07885179]; New bias: 0.07; linear output: 0.7498216462963045;, y_predicted: 1;\n",
            "ITER 39:  Error: 0; New weights: [ 0.15335085 -0.07885179]; New bias: 0.07; linear output: 1.5002724404578098;, y_predicted: 1;\n",
            "ITER 0:  Error: 0; New weights: [ 0.15335085 -0.07885179]; New bias: 0.07; linear output: 1.341127031433247;, y_predicted: 1;\n",
            "ITER 1:  Error: 0; New weights: [ 0.15335085 -0.07885179]; New bias: 0.07; linear output: 0.9513216297186979;, y_predicted: 1;\n",
            "ITER 2:  Error: 0; New weights: [ 0.15335085 -0.07885179]; New bias: 0.07; linear output: -3.077720152319887;, y_predicted: 0;\n",
            "ITER 3:  Error: 0; New weights: [ 0.15335085 -0.07885179]; New bias: 0.07; linear output: -3.0668973945172535;, y_predicted: 0;\n",
            "ITER 4:  Error: 0; New weights: [ 0.15335085 -0.07885179]; New bias: 0.07; linear output: 0.5952915782055084;, y_predicted: 1;\n",
            "ITER 5:  Error: 0; New weights: [ 0.15335085 -0.07885179]; New bias: 0.07; linear output: -1.3094327801787446;, y_predicted: 0;\n",
            "ITER 6:  Error: 0; New weights: [ 0.15335085 -0.07885179]; New bias: 0.07; linear output: -0.9172163792263939;, y_predicted: 0;\n",
            "ITER 7:  Error: 0; New weights: [ 0.15335085 -0.07885179]; New bias: 0.07; linear output: 1.5921619784151306;, y_predicted: 1;\n",
            "ITER 8:  Error: 0; New weights: [ 0.15335085 -0.07885179]; New bias: 0.07; linear output: -1.8066439576002955;, y_predicted: 0;\n",
            "ITER 9:  Error: 0; New weights: [ 0.15335085 -0.07885179]; New bias: 0.07; linear output: -2.1381367036970507;, y_predicted: 0;\n",
            "ITER 10:  Error: 0; New weights: [ 0.15335085 -0.07885179]; New bias: 0.07; linear output: -0.9064965634893296;, y_predicted: 0;\n",
            "ITER 11:  Error: 0; New weights: [ 0.15335085 -0.07885179]; New bias: 0.07; linear output: -1.8466340607349545;, y_predicted: 0;\n",
            "ITER 12:  Error: 0; New weights: [ 0.15335085 -0.07885179]; New bias: 0.07; linear output: -2.2568476784648244;, y_predicted: 0;\n",
            "ITER 13:  Error: 0; New weights: [ 0.15335085 -0.07885179]; New bias: 0.07; linear output: -2.6861834831008506;, y_predicted: 0;\n",
            "ITER 14:  Error: 0; New weights: [ 0.15335085 -0.07885179]; New bias: 0.07; linear output: 0.27464720212406957;, y_predicted: 1;\n",
            "ITER 15:  Error: 0; New weights: [ 0.15335085 -0.07885179]; New bias: 0.07; linear output: -1.8114140804112153;, y_predicted: 0;\n",
            "ITER 16:  Error: 0; New weights: [ 0.15335085 -0.07885179]; New bias: 0.07; linear output: 1.9222698344024716;, y_predicted: 1;\n",
            "ITER 17:  Error: 0; New weights: [ 0.15335085 -0.07885179]; New bias: 0.07; linear output: -1.7351466378814764;, y_predicted: 0;\n",
            "ITER 18:  Error: 0; New weights: [ 0.15335085 -0.07885179]; New bias: 0.07; linear output: 0.9362581692295184;, y_predicted: 1;\n",
            "ITER 19:  Error: 0; New weights: [ 0.15335085 -0.07885179]; New bias: 0.07; linear output: -1.498792429087718;, y_predicted: 0;\n",
            "ITER 20:  Error: 0; New weights: [ 0.15335085 -0.07885179]; New bias: 0.07; linear output: 0.06469827065956113;, y_predicted: 1;\n",
            "ITER 21:  Error: 0; New weights: [ 0.15335085 -0.07885179]; New bias: 0.07; linear output: -1.476581740795532;, y_predicted: 0;\n",
            "ITER 22:  Error: 0; New weights: [ 0.15335085 -0.07885179]; New bias: 0.07; linear output: 1.1662318917796433;, y_predicted: 1;\n",
            "ITER 23:  Error: 0; New weights: [ 0.15335085 -0.07885179]; New bias: 0.07; linear output: 2.3404373803522134;, y_predicted: 1;\n",
            "ITER 24:  Error: 0; New weights: [ 0.15335085 -0.07885179]; New bias: 0.07; linear output: 0.9675293173150765;, y_predicted: 1;\n",
            "ITER 25:  Error: 0; New weights: [ 0.15335085 -0.07885179]; New bias: 0.07; linear output: -1.624712338419591;, y_predicted: 0;\n",
            "ITER 26:  Error: 0; New weights: [ 0.15335085 -0.07885179]; New bias: 0.07; linear output: 2.5969664308351956;, y_predicted: 1;\n",
            "ITER 27:  Error: 0; New weights: [ 0.15335085 -0.07885179]; New bias: 0.07; linear output: 1.161740567233119;, y_predicted: 1;\n",
            "ITER 28:  Error: 0; New weights: [ 0.15335085 -0.07885179]; New bias: 0.07; linear output: -1.8575843549810094;, y_predicted: 0;\n",
            "ITER 29:  Error: 0; New weights: [ 0.15335085 -0.07885179]; New bias: 0.07; linear output: -3.0924786911849793;, y_predicted: 0;\n",
            "ITER 30:  Error: 0; New weights: [ 0.15335085 -0.07885179]; New bias: 0.07; linear output: -1.5479214350317965;, y_predicted: 0;\n",
            "ITER 31:  Error: 0; New weights: [ 0.15335085 -0.07885179]; New bias: 0.07; linear output: -2.7447378278976866;, y_predicted: 0;\n",
            "ITER 32:  Error: 0; New weights: [ 0.15335085 -0.07885179]; New bias: 0.07; linear output: 1.7861709618784214;, y_predicted: 1;\n",
            "ITER 33:  Error: 0; New weights: [ 0.15335085 -0.07885179]; New bias: 0.07; linear output: 0.020732468115212177;, y_predicted: 1;\n",
            "ITER 34:  Error: 0; New weights: [ 0.15335085 -0.07885179]; New bias: 0.07; linear output: -2.9797737917980585;, y_predicted: 0;\n",
            "ITER 35:  Error: 0; New weights: [ 0.15335085 -0.07885179]; New bias: 0.07; linear output: 1.3530246372754746;, y_predicted: 1;\n",
            "ITER 36:  Error: 0; New weights: [ 0.15335085 -0.07885179]; New bias: 0.07; linear output: 0.5943459426981919;, y_predicted: 1;\n",
            "ITER 37:  Error: 0; New weights: [ 0.15335085 -0.07885179]; New bias: 0.07; linear output: -2.6789348307875964;, y_predicted: 0;\n",
            "ITER 38:  Error: 0; New weights: [ 0.15335085 -0.07885179]; New bias: 0.07; linear output: 0.7498216462963045;, y_predicted: 1;\n",
            "ITER 39:  Error: 0; New weights: [ 0.15335085 -0.07885179]; New bias: 0.07; linear output: 1.5002724404578098;, y_predicted: 1;\n",
            "ITER 0:  Error: 0; New weights: [ 0.15335085 -0.07885179]; New bias: 0.07; linear output: 1.341127031433247;, y_predicted: 1;\n",
            "ITER 1:  Error: 0; New weights: [ 0.15335085 -0.07885179]; New bias: 0.07; linear output: 0.9513216297186979;, y_predicted: 1;\n",
            "ITER 2:  Error: 0; New weights: [ 0.15335085 -0.07885179]; New bias: 0.07; linear output: -3.077720152319887;, y_predicted: 0;\n",
            "ITER 3:  Error: 0; New weights: [ 0.15335085 -0.07885179]; New bias: 0.07; linear output: -3.0668973945172535;, y_predicted: 0;\n",
            "ITER 4:  Error: 0; New weights: [ 0.15335085 -0.07885179]; New bias: 0.07; linear output: 0.5952915782055084;, y_predicted: 1;\n",
            "ITER 5:  Error: 0; New weights: [ 0.15335085 -0.07885179]; New bias: 0.07; linear output: -1.3094327801787446;, y_predicted: 0;\n",
            "ITER 6:  Error: 0; New weights: [ 0.15335085 -0.07885179]; New bias: 0.07; linear output: -0.9172163792263939;, y_predicted: 0;\n",
            "ITER 7:  Error: 0; New weights: [ 0.15335085 -0.07885179]; New bias: 0.07; linear output: 1.5921619784151306;, y_predicted: 1;\n",
            "ITER 8:  Error: 0; New weights: [ 0.15335085 -0.07885179]; New bias: 0.07; linear output: -1.8066439576002955;, y_predicted: 0;\n",
            "ITER 9:  Error: 0; New weights: [ 0.15335085 -0.07885179]; New bias: 0.07; linear output: -2.1381367036970507;, y_predicted: 0;\n",
            "ITER 10:  Error: 0; New weights: [ 0.15335085 -0.07885179]; New bias: 0.07; linear output: -0.9064965634893296;, y_predicted: 0;\n",
            "ITER 11:  Error: 0; New weights: [ 0.15335085 -0.07885179]; New bias: 0.07; linear output: -1.8466340607349545;, y_predicted: 0;\n",
            "ITER 12:  Error: 0; New weights: [ 0.15335085 -0.07885179]; New bias: 0.07; linear output: -2.2568476784648244;, y_predicted: 0;\n",
            "ITER 13:  Error: 0; New weights: [ 0.15335085 -0.07885179]; New bias: 0.07; linear output: -2.6861834831008506;, y_predicted: 0;\n",
            "ITER 14:  Error: 0; New weights: [ 0.15335085 -0.07885179]; New bias: 0.07; linear output: 0.27464720212406957;, y_predicted: 1;\n",
            "ITER 15:  Error: 0; New weights: [ 0.15335085 -0.07885179]; New bias: 0.07; linear output: -1.8114140804112153;, y_predicted: 0;\n",
            "ITER 16:  Error: 0; New weights: [ 0.15335085 -0.07885179]; New bias: 0.07; linear output: 1.9222698344024716;, y_predicted: 1;\n",
            "ITER 17:  Error: 0; New weights: [ 0.15335085 -0.07885179]; New bias: 0.07; linear output: -1.7351466378814764;, y_predicted: 0;\n",
            "ITER 18:  Error: 0; New weights: [ 0.15335085 -0.07885179]; New bias: 0.07; linear output: 0.9362581692295184;, y_predicted: 1;\n",
            "ITER 19:  Error: 0; New weights: [ 0.15335085 -0.07885179]; New bias: 0.07; linear output: -1.498792429087718;, y_predicted: 0;\n",
            "ITER 20:  Error: 0; New weights: [ 0.15335085 -0.07885179]; New bias: 0.07; linear output: 0.06469827065956113;, y_predicted: 1;\n",
            "ITER 21:  Error: 0; New weights: [ 0.15335085 -0.07885179]; New bias: 0.07; linear output: -1.476581740795532;, y_predicted: 0;\n",
            "ITER 22:  Error: 0; New weights: [ 0.15335085 -0.07885179]; New bias: 0.07; linear output: 1.1662318917796433;, y_predicted: 1;\n",
            "ITER 23:  Error: 0; New weights: [ 0.15335085 -0.07885179]; New bias: 0.07; linear output: 2.3404373803522134;, y_predicted: 1;\n",
            "ITER 24:  Error: 0; New weights: [ 0.15335085 -0.07885179]; New bias: 0.07; linear output: 0.9675293173150765;, y_predicted: 1;\n",
            "ITER 25:  Error: 0; New weights: [ 0.15335085 -0.07885179]; New bias: 0.07; linear output: -1.624712338419591;, y_predicted: 0;\n",
            "ITER 26:  Error: 0; New weights: [ 0.15335085 -0.07885179]; New bias: 0.07; linear output: 2.5969664308351956;, y_predicted: 1;\n",
            "ITER 27:  Error: 0; New weights: [ 0.15335085 -0.07885179]; New bias: 0.07; linear output: 1.161740567233119;, y_predicted: 1;\n",
            "ITER 28:  Error: 0; New weights: [ 0.15335085 -0.07885179]; New bias: 0.07; linear output: -1.8575843549810094;, y_predicted: 0;\n",
            "ITER 29:  Error: 0; New weights: [ 0.15335085 -0.07885179]; New bias: 0.07; linear output: -3.0924786911849793;, y_predicted: 0;\n",
            "ITER 30:  Error: 0; New weights: [ 0.15335085 -0.07885179]; New bias: 0.07; linear output: -1.5479214350317965;, y_predicted: 0;\n",
            "ITER 31:  Error: 0; New weights: [ 0.15335085 -0.07885179]; New bias: 0.07; linear output: -2.7447378278976866;, y_predicted: 0;\n",
            "ITER 32:  Error: 0; New weights: [ 0.15335085 -0.07885179]; New bias: 0.07; linear output: 1.7861709618784214;, y_predicted: 1;\n",
            "ITER 33:  Error: 0; New weights: [ 0.15335085 -0.07885179]; New bias: 0.07; linear output: 0.020732468115212177;, y_predicted: 1;\n",
            "ITER 34:  Error: 0; New weights: [ 0.15335085 -0.07885179]; New bias: 0.07; linear output: -2.9797737917980585;, y_predicted: 0;\n",
            "ITER 35:  Error: 0; New weights: [ 0.15335085 -0.07885179]; New bias: 0.07; linear output: 1.3530246372754746;, y_predicted: 1;\n",
            "ITER 36:  Error: 0; New weights: [ 0.15335085 -0.07885179]; New bias: 0.07; linear output: 0.5943459426981919;, y_predicted: 1;\n",
            "ITER 37:  Error: 0; New weights: [ 0.15335085 -0.07885179]; New bias: 0.07; linear output: -2.6789348307875964;, y_predicted: 0;\n",
            "ITER 38:  Error: 0; New weights: [ 0.15335085 -0.07885179]; New bias: 0.07; linear output: 0.7498216462963045;, y_predicted: 1;\n",
            "ITER 39:  Error: 0; New weights: [ 0.15335085 -0.07885179]; New bias: 0.07; linear output: 1.5002724404578098;, y_predicted: 1;\n",
            "ITER 0:  Error: 0; New weights: [ 0.15335085 -0.07885179]; New bias: 0.07; linear output: 1.341127031433247;, y_predicted: 1;\n",
            "ITER 1:  Error: 0; New weights: [ 0.15335085 -0.07885179]; New bias: 0.07; linear output: 0.9513216297186979;, y_predicted: 1;\n",
            "ITER 2:  Error: 0; New weights: [ 0.15335085 -0.07885179]; New bias: 0.07; linear output: -3.077720152319887;, y_predicted: 0;\n",
            "ITER 3:  Error: 0; New weights: [ 0.15335085 -0.07885179]; New bias: 0.07; linear output: -3.0668973945172535;, y_predicted: 0;\n",
            "ITER 4:  Error: 0; New weights: [ 0.15335085 -0.07885179]; New bias: 0.07; linear output: 0.5952915782055084;, y_predicted: 1;\n",
            "ITER 5:  Error: 0; New weights: [ 0.15335085 -0.07885179]; New bias: 0.07; linear output: -1.3094327801787446;, y_predicted: 0;\n",
            "ITER 6:  Error: 0; New weights: [ 0.15335085 -0.07885179]; New bias: 0.07; linear output: -0.9172163792263939;, y_predicted: 0;\n",
            "ITER 7:  Error: 0; New weights: [ 0.15335085 -0.07885179]; New bias: 0.07; linear output: 1.5921619784151306;, y_predicted: 1;\n",
            "ITER 8:  Error: 0; New weights: [ 0.15335085 -0.07885179]; New bias: 0.07; linear output: -1.8066439576002955;, y_predicted: 0;\n",
            "ITER 9:  Error: 0; New weights: [ 0.15335085 -0.07885179]; New bias: 0.07; linear output: -2.1381367036970507;, y_predicted: 0;\n",
            "ITER 10:  Error: 0; New weights: [ 0.15335085 -0.07885179]; New bias: 0.07; linear output: -0.9064965634893296;, y_predicted: 0;\n",
            "ITER 11:  Error: 0; New weights: [ 0.15335085 -0.07885179]; New bias: 0.07; linear output: -1.8466340607349545;, y_predicted: 0;\n",
            "ITER 12:  Error: 0; New weights: [ 0.15335085 -0.07885179]; New bias: 0.07; linear output: -2.2568476784648244;, y_predicted: 0;\n",
            "ITER 13:  Error: 0; New weights: [ 0.15335085 -0.07885179]; New bias: 0.07; linear output: -2.6861834831008506;, y_predicted: 0;\n",
            "ITER 14:  Error: 0; New weights: [ 0.15335085 -0.07885179]; New bias: 0.07; linear output: 0.27464720212406957;, y_predicted: 1;\n",
            "ITER 15:  Error: 0; New weights: [ 0.15335085 -0.07885179]; New bias: 0.07; linear output: -1.8114140804112153;, y_predicted: 0;\n",
            "ITER 16:  Error: 0; New weights: [ 0.15335085 -0.07885179]; New bias: 0.07; linear output: 1.9222698344024716;, y_predicted: 1;\n",
            "ITER 17:  Error: 0; New weights: [ 0.15335085 -0.07885179]; New bias: 0.07; linear output: -1.7351466378814764;, y_predicted: 0;\n",
            "ITER 18:  Error: 0; New weights: [ 0.15335085 -0.07885179]; New bias: 0.07; linear output: 0.9362581692295184;, y_predicted: 1;\n",
            "ITER 19:  Error: 0; New weights: [ 0.15335085 -0.07885179]; New bias: 0.07; linear output: -1.498792429087718;, y_predicted: 0;\n",
            "ITER 20:  Error: 0; New weights: [ 0.15335085 -0.07885179]; New bias: 0.07; linear output: 0.06469827065956113;, y_predicted: 1;\n",
            "ITER 21:  Error: 0; New weights: [ 0.15335085 -0.07885179]; New bias: 0.07; linear output: -1.476581740795532;, y_predicted: 0;\n",
            "ITER 22:  Error: 0; New weights: [ 0.15335085 -0.07885179]; New bias: 0.07; linear output: 1.1662318917796433;, y_predicted: 1;\n",
            "ITER 23:  Error: 0; New weights: [ 0.15335085 -0.07885179]; New bias: 0.07; linear output: 2.3404373803522134;, y_predicted: 1;\n",
            "ITER 24:  Error: 0; New weights: [ 0.15335085 -0.07885179]; New bias: 0.07; linear output: 0.9675293173150765;, y_predicted: 1;\n",
            "ITER 25:  Error: 0; New weights: [ 0.15335085 -0.07885179]; New bias: 0.07; linear output: -1.624712338419591;, y_predicted: 0;\n",
            "ITER 26:  Error: 0; New weights: [ 0.15335085 -0.07885179]; New bias: 0.07; linear output: 2.5969664308351956;, y_predicted: 1;\n",
            "ITER 27:  Error: 0; New weights: [ 0.15335085 -0.07885179]; New bias: 0.07; linear output: 1.161740567233119;, y_predicted: 1;\n",
            "ITER 28:  Error: 0; New weights: [ 0.15335085 -0.07885179]; New bias: 0.07; linear output: -1.8575843549810094;, y_predicted: 0;\n",
            "ITER 29:  Error: 0; New weights: [ 0.15335085 -0.07885179]; New bias: 0.07; linear output: -3.0924786911849793;, y_predicted: 0;\n",
            "ITER 30:  Error: 0; New weights: [ 0.15335085 -0.07885179]; New bias: 0.07; linear output: -1.5479214350317965;, y_predicted: 0;\n",
            "ITER 31:  Error: 0; New weights: [ 0.15335085 -0.07885179]; New bias: 0.07; linear output: -2.7447378278976866;, y_predicted: 0;\n",
            "ITER 32:  Error: 0; New weights: [ 0.15335085 -0.07885179]; New bias: 0.07; linear output: 1.7861709618784214;, y_predicted: 1;\n",
            "ITER 33:  Error: 0; New weights: [ 0.15335085 -0.07885179]; New bias: 0.07; linear output: 0.020732468115212177;, y_predicted: 1;\n",
            "ITER 34:  Error: 0; New weights: [ 0.15335085 -0.07885179]; New bias: 0.07; linear output: -2.9797737917980585;, y_predicted: 0;\n",
            "ITER 35:  Error: 0; New weights: [ 0.15335085 -0.07885179]; New bias: 0.07; linear output: 1.3530246372754746;, y_predicted: 1;\n",
            "ITER 36:  Error: 0; New weights: [ 0.15335085 -0.07885179]; New bias: 0.07; linear output: 0.5943459426981919;, y_predicted: 1;\n",
            "ITER 37:  Error: 0; New weights: [ 0.15335085 -0.07885179]; New bias: 0.07; linear output: -2.6789348307875964;, y_predicted: 0;\n",
            "ITER 38:  Error: 0; New weights: [ 0.15335085 -0.07885179]; New bias: 0.07; linear output: 0.7498216462963045;, y_predicted: 1;\n",
            "ITER 39:  Error: 0; New weights: [ 0.15335085 -0.07885179]; New bias: 0.07; linear output: 1.5002724404578098;, y_predicted: 1;\n",
            "ITER 0:  Error: 0; New weights: [ 0.15335085 -0.07885179]; New bias: 0.07; linear output: 1.341127031433247;, y_predicted: 1;\n",
            "ITER 1:  Error: 0; New weights: [ 0.15335085 -0.07885179]; New bias: 0.07; linear output: 0.9513216297186979;, y_predicted: 1;\n",
            "ITER 2:  Error: 0; New weights: [ 0.15335085 -0.07885179]; New bias: 0.07; linear output: -3.077720152319887;, y_predicted: 0;\n",
            "ITER 3:  Error: 0; New weights: [ 0.15335085 -0.07885179]; New bias: 0.07; linear output: -3.0668973945172535;, y_predicted: 0;\n",
            "ITER 4:  Error: 0; New weights: [ 0.15335085 -0.07885179]; New bias: 0.07; linear output: 0.5952915782055084;, y_predicted: 1;\n",
            "ITER 5:  Error: 0; New weights: [ 0.15335085 -0.07885179]; New bias: 0.07; linear output: -1.3094327801787446;, y_predicted: 0;\n",
            "ITER 6:  Error: 0; New weights: [ 0.15335085 -0.07885179]; New bias: 0.07; linear output: -0.9172163792263939;, y_predicted: 0;\n",
            "ITER 7:  Error: 0; New weights: [ 0.15335085 -0.07885179]; New bias: 0.07; linear output: 1.5921619784151306;, y_predicted: 1;\n",
            "ITER 8:  Error: 0; New weights: [ 0.15335085 -0.07885179]; New bias: 0.07; linear output: -1.8066439576002955;, y_predicted: 0;\n",
            "ITER 9:  Error: 0; New weights: [ 0.15335085 -0.07885179]; New bias: 0.07; linear output: -2.1381367036970507;, y_predicted: 0;\n",
            "ITER 10:  Error: 0; New weights: [ 0.15335085 -0.07885179]; New bias: 0.07; linear output: -0.9064965634893296;, y_predicted: 0;\n",
            "ITER 11:  Error: 0; New weights: [ 0.15335085 -0.07885179]; New bias: 0.07; linear output: -1.8466340607349545;, y_predicted: 0;\n",
            "ITER 12:  Error: 0; New weights: [ 0.15335085 -0.07885179]; New bias: 0.07; linear output: -2.2568476784648244;, y_predicted: 0;\n",
            "ITER 13:  Error: 0; New weights: [ 0.15335085 -0.07885179]; New bias: 0.07; linear output: -2.6861834831008506;, y_predicted: 0;\n",
            "ITER 14:  Error: 0; New weights: [ 0.15335085 -0.07885179]; New bias: 0.07; linear output: 0.27464720212406957;, y_predicted: 1;\n",
            "ITER 15:  Error: 0; New weights: [ 0.15335085 -0.07885179]; New bias: 0.07; linear output: -1.8114140804112153;, y_predicted: 0;\n",
            "ITER 16:  Error: 0; New weights: [ 0.15335085 -0.07885179]; New bias: 0.07; linear output: 1.9222698344024716;, y_predicted: 1;\n",
            "ITER 17:  Error: 0; New weights: [ 0.15335085 -0.07885179]; New bias: 0.07; linear output: -1.7351466378814764;, y_predicted: 0;\n",
            "ITER 18:  Error: 0; New weights: [ 0.15335085 -0.07885179]; New bias: 0.07; linear output: 0.9362581692295184;, y_predicted: 1;\n",
            "ITER 19:  Error: 0; New weights: [ 0.15335085 -0.07885179]; New bias: 0.07; linear output: -1.498792429087718;, y_predicted: 0;\n",
            "ITER 20:  Error: 0; New weights: [ 0.15335085 -0.07885179]; New bias: 0.07; linear output: 0.06469827065956113;, y_predicted: 1;\n",
            "ITER 21:  Error: 0; New weights: [ 0.15335085 -0.07885179]; New bias: 0.07; linear output: -1.476581740795532;, y_predicted: 0;\n",
            "ITER 22:  Error: 0; New weights: [ 0.15335085 -0.07885179]; New bias: 0.07; linear output: 1.1662318917796433;, y_predicted: 1;\n",
            "ITER 23:  Error: 0; New weights: [ 0.15335085 -0.07885179]; New bias: 0.07; linear output: 2.3404373803522134;, y_predicted: 1;\n",
            "ITER 24:  Error: 0; New weights: [ 0.15335085 -0.07885179]; New bias: 0.07; linear output: 0.9675293173150765;, y_predicted: 1;\n",
            "ITER 25:  Error: 0; New weights: [ 0.15335085 -0.07885179]; New bias: 0.07; linear output: -1.624712338419591;, y_predicted: 0;\n",
            "ITER 26:  Error: 0; New weights: [ 0.15335085 -0.07885179]; New bias: 0.07; linear output: 2.5969664308351956;, y_predicted: 1;\n",
            "ITER 27:  Error: 0; New weights: [ 0.15335085 -0.07885179]; New bias: 0.07; linear output: 1.161740567233119;, y_predicted: 1;\n",
            "ITER 28:  Error: 0; New weights: [ 0.15335085 -0.07885179]; New bias: 0.07; linear output: -1.8575843549810094;, y_predicted: 0;\n",
            "ITER 29:  Error: 0; New weights: [ 0.15335085 -0.07885179]; New bias: 0.07; linear output: -3.0924786911849793;, y_predicted: 0;\n",
            "ITER 30:  Error: 0; New weights: [ 0.15335085 -0.07885179]; New bias: 0.07; linear output: -1.5479214350317965;, y_predicted: 0;\n",
            "ITER 31:  Error: 0; New weights: [ 0.15335085 -0.07885179]; New bias: 0.07; linear output: -2.7447378278976866;, y_predicted: 0;\n",
            "ITER 32:  Error: 0; New weights: [ 0.15335085 -0.07885179]; New bias: 0.07; linear output: 1.7861709618784214;, y_predicted: 1;\n",
            "ITER 33:  Error: 0; New weights: [ 0.15335085 -0.07885179]; New bias: 0.07; linear output: 0.020732468115212177;, y_predicted: 1;\n",
            "ITER 34:  Error: 0; New weights: [ 0.15335085 -0.07885179]; New bias: 0.07; linear output: -2.9797737917980585;, y_predicted: 0;\n",
            "ITER 35:  Error: 0; New weights: [ 0.15335085 -0.07885179]; New bias: 0.07; linear output: 1.3530246372754746;, y_predicted: 1;\n",
            "ITER 36:  Error: 0; New weights: [ 0.15335085 -0.07885179]; New bias: 0.07; linear output: 0.5943459426981919;, y_predicted: 1;\n",
            "ITER 37:  Error: 0; New weights: [ 0.15335085 -0.07885179]; New bias: 0.07; linear output: -2.6789348307875964;, y_predicted: 0;\n",
            "ITER 38:  Error: 0; New weights: [ 0.15335085 -0.07885179]; New bias: 0.07; linear output: 0.7498216462963045;, y_predicted: 1;\n",
            "ITER 39:  Error: 0; New weights: [ 0.15335085 -0.07885179]; New bias: 0.07; linear output: 1.5002724404578098;, y_predicted: 1;\n"
          ]
        }
      ]
    },
    {
      "cell_type": "code",
      "source": [
        "# Plot train data with seperating line / 'decision boundary'\n",
        "fig = plt.figure()\n",
        "ax = fig.add_subplot(1, 1, 1)\n",
        "colors = ['green', 'orange']\n",
        "plt.scatter(X_train[:, 0], X_train[:, 1], marker=\"D\", c=y_train, cmap=matplotlib.colors.ListedColormap(colors))\n",
        "\n",
        "x0_1 = np.amin(X_train[:, 0])\n",
        "x0_2 = np.amax(X_train[:, 0])\n",
        "\n",
        "x1_1 = (-p.weights[0] * x0_1 - p.bias) / p.weights[1]\n",
        "x1_2 = (-p.weights[0] * x0_2 - p.bias) / p.weights[1]\n",
        "\n",
        "ax.plot([x0_1, x0_2], [x1_1, x1_2], \"k\")\n",
        "\n",
        "ymin = np.amin(X_train[:, 1])\n",
        "ymax = np.amax(X_train[:, 1])\n",
        "ax.set_ylim([ymin - 3, ymax + 3])\n",
        "\n",
        "plt.show()"
      ],
      "metadata": {
        "colab": {
          "base_uri": "https://localhost:8080/",
          "height": 430
        },
        "id": "gFgBH82WJ4ma",
        "outputId": "06e6056e-2ebb-44fa-dc8e-b5725e290321"
      },
      "execution_count": 43,
      "outputs": [
        {
          "output_type": "display_data",
          "data": {
            "text/plain": [
              "<Figure size 640x480 with 1 Axes>"
            ],
            "image/png": "[encoded data removed]"
          },
          "metadata": {}
        }
      ]
    },
    {
      "cell_type": "markdown",
      "source": [
        "# Checking the model on unseen data"
      ],
      "metadata": {
        "id": "CtH2fp80Rlyy"
      }
    },
    {
      "cell_type": "markdown",
      "source": [
        "Now the model is fed the subset of data that was withheld for testing. We can compare the class prediction from the model with the 'ground truth' labels that we already know to obtain an accuracy score:"
      ],
      "metadata": {
        "id": "yIaZvHrWRwaf"
      }
    },
    {
      "cell_type": "code",
      "source": [
        "# Calculate accuracy of predictions on test set:\n",
        "accuracy = sum(p.predict(X_test) == y_test) / len(X_test)\n",
        "print(f'Accuracy: {accuracy *100}%')"
      ],
      "metadata": {
        "colab": {
          "base_uri": "https://localhost:8080/"
        },
        "id": "bpE8Mvm7sJ24",
        "outputId": "52093049-009a-4bc5-b64c-4066355d1265"
      },
      "execution_count": 44,
      "outputs": [
        {
          "output_type": "stream",
          "name": "stdout",
          "text": [
            "Accuracy: 90.0%\n"
          ]
        }
      ]
    },
    {
      "cell_type": "code",
      "source": [
        "fig = plt.figure()\n",
        "ax = fig.add_subplot(1, 1, 1)\n",
        "colors = ['green', 'orange']\n",
        "colors_test = ['red', 'cyan']\n",
        "plt.scatter(X_test[:, 0], X_test[:, 1], marker=\"x\", c=y_test, cmap=matplotlib.colors.ListedColormap(colors_test))\n",
        "plt.scatter(X_train[:, 0], X_train[:, 1], marker=\"D\", c=y_train, cmap=matplotlib.colors.ListedColormap(colors))\n",
        "\n",
        "\n",
        "x0_1 = np.amin(X_train[:, 0])\n",
        "x0_2 = np.amax(X_train[:, 0])\n",
        "\n",
        "x1_1 = (-p.weights[0] * x0_1 - p.bias) / p.weights[1]\n",
        "x1_2 = (-p.weights[0] * x0_2 - p.bias) / p.weights[1]\n",
        "\n",
        "ax.plot([x0_1, x0_2], [x1_1, x1_2], \"k\")\n",
        "\n",
        "ymin = np.amin(X_train[:, 1])\n",
        "ymax = np.amax(X_train[:, 1])\n",
        "ax.set_ylim([ymin - 3, ymax + 3])\n",
        "\n",
        "plt.show()"
      ],
      "metadata": {
        "colab": {
          "base_uri": "https://localhost:8080/",
          "height": 430
        },
        "id": "oib32CEqKDiM",
        "outputId": "c9937e63-9341-4783-dfdb-0ae1da20d715"
      },
      "execution_count": 45,
      "outputs": [
        {
          "output_type": "display_data",
          "data": {
            "text/plain": [
              "<Figure size 640x480 with 1 Axes>"
            ],
            "image/png": "[encoded data removed]"
          },
          "metadata": {}
        }
      ]
    },
    {
      "cell_type": "code",
      "source": [
        "p.weights"
      ],
      "metadata": {
        "colab": {
          "base_uri": "https://localhost:8080/"
        },
        "id": "i_4-nP30Kxal",
        "outputId": "1796b8a4-a4c9-40c7-b5d0-c855ff0bb99b"
      },
      "execution_count": 46,
      "outputs": [
        {
          "output_type": "execute_result",
          "data": {
            "text/plain": [
              "array([ 0.15335085, -0.07885179])"
            ]
          },
          "metadata": {},
          "execution_count": 46
        }
      ]
    },
    {
      "cell_type": "code",
      "source": [],
      "metadata": {
        "id": "aG2EBEFhMZMd"
      },
      "execution_count": null,
      "outputs": []
    }
  ]
}